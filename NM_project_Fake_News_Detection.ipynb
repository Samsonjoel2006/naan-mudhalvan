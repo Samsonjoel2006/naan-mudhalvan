{
  "cells": [
    {
      "cell_type": "code",
      "execution_count": null,
      "metadata": {
        "colab": {
          "base_uri": "https://localhost:8080/"
        },
        "id": "upx3uTRI99j7",
        "outputId": "a367828e-81e7-4763-e4b5-2b06a25d04f6"
      },
      "outputs": [
        {
          "output_type": "stream",
          "name": "stderr",
          "text": [
            "[nltk_data] Downloading package stopwords to /root/nltk_data...\n",
            "[nltk_data]   Package stopwords is already up-to-date!\n"
          ]
        },
        {
          "output_type": "stream",
          "name": "stdout",
          "text": [
            "Model Accuracy: 60.40%\n",
            "Confusion Matrix:\n",
            "[[401 487]\n",
            " [324 836]]\n",
            "Prediction: REAL\n"
          ]
        }
      ],
      "source": [
        "import re\n",
        "import pandas as pd\n",
        "import numpy as np\n",
        "import nltk\n",
        "from nltk.corpus import stopwords\n",
        "from sklearn.feature_extraction.text import TfidfVectorizer\n",
        "from sklearn.model_selection import train_test_split\n",
        "from sklearn.linear_model import LogisticRegression\n",
        "from sklearn.metrics import accuracy_score, confusion_matrix\n",
        "\n",
        "try:\n",
        "    nltk.download('stopwords')\n",
        "    stop_words = set(stopwords.words('english'))\n",
        "except:\n",
        "    stop_words = set()\n",
        "\n",
        "file_path = \"/content/News.csv\"\n",
        "df = pd.read_csv(file_path)\n",
        "\n",
        "df['Fake'] = df['Fake'].astype(int)\n",
        "\n",
        "def preprocess_text(text):\n",
        "    text = re.sub(r'\\W', ' ', str(text))\n",
        "    text = text.lower()\n",
        "    text = text.split()\n",
        "    text = [word for word in text if word not in stop_words]\n",
        "    return ' '.join(text)\n",
        "\n",
        "df['News'] = df['News'].apply(preprocess_text)\n",
        "\n",
        "vectorizer = TfidfVectorizer(max_features=5000)\n",
        "X = vectorizer.fit_transform(df['News'])\n",
        "y = df['Fake']\n",
        "\n",
        "X_train, X_test, y_train, y_test = train_test_split(X, y, test_size=0.2, random_state=42)\n",
        "\n",
        "model = LogisticRegression(max_iter=200)\n",
        "model.fit(X_train, y_train)\n",
        "\n",
        "y_pred = model.predict(X_test)\n",
        "accuracy = accuracy_score(y_test, y_pred)\n",
        "print(f\"Model Accuracy: {accuracy * 100:.2f}%\")\n",
        "\n",
        "\n",
        "print(\"Confusion Matrix:\")\n",
        "print(confusion_matrix(y_test, y_pred))\n",
        "\n",
        "def predict_news(text):\n",
        "    processed_text = preprocess_text(text)\n",
        "    vectorized_text = vectorizer.transform([processed_text])\n",
        "    prediction = model.predict(vectorized_text)\n",
        "    return \"FAKE\" if prediction[0] == 1 else \"REAL\"\n",
        "\n",
        "new_article = \"Breaking news! Scientists discover a new planet beyond Pluto.\"\n",
        "print(\"Prediction:\", predict_news(new_article))"
      ]
    }
  ],
  "metadata": {
    "colab": {
      "provenance": []
    },
    "kernelspec": {
      "display_name": "Python 3",
      "name": "python3"
    },
    "language_info": {
      "name": "python"
    }
  },
  "nbformat": 4,
  "nbformat_minor": 0
}